{
 "cells": [
  {
   "cell_type": "code",
   "execution_count": 24,
   "metadata": {},
   "outputs": [],
   "source": [
    "# importing libs\n",
    "import numpy as np\n",
    "import tensorflow as tf\n",
    "import keras\n",
    "from keras.layers import Input, Dense, GaussianNoise, Lambda, Dropout, Layer, LayerNormalization\n",
    "from keras.models import Model\n",
    "from keras import regularizers\n",
    "from keras.layers import BatchNormalization\n",
    "from keras.optimizers import Adam,SGD\n",
    "from keras import backend as K"
   ]
  },
  {
   "cell_type": "code",
   "execution_count": 25,
   "metadata": {},
   "outputs": [],
   "source": [
    "# 시드 고정\n",
    "import random\n",
    "\n",
    "seed = 42\n",
    "np.random.seed(seed)\n",
    "tf.random.set_seed(seed)\n",
    "random.seed(seed)"
   ]
  },
  {
   "cell_type": "code",
   "execution_count": 26,
   "metadata": {},
   "outputs": [
    {
     "name": "stdout",
     "output_type": "stream",
     "text": [
      "M1: 8 k1: 3 n: 1\n",
      "M1: 4 k1: 2 n: 1\n"
     ]
    }
   ],
   "source": [
    "# defining parameters\n",
    "# define (n,k) here for (n,k) autoencoder\n",
    "# n = n_channel complex numbers (so 2n real numbers)\n",
    "# k = log2(M), where M is the number of messages to encode\n",
    "M1 = 8\n",
    "M2 = 4\n",
    "\n",
    "k1 = np.log2(M1)\n",
    "k1 = int(k1)\n",
    "\n",
    "k2 = np.log2(M2)\n",
    "k2 = int(k2)\n",
    "\n",
    "n_channel = 1\n",
    "\n",
    "R1 = k1/n_channel\n",
    "R2 = k2/n_channel\n",
    "\n",
    "print ('M1:',M1,'k1:',k1,'n:',n_channel)\n",
    "print ('M1:',M2,'k1:',k2,'n:',n_channel)"
   ]
  },
  {
   "cell_type": "code",
   "execution_count": 27,
   "metadata": {},
   "outputs": [],
   "source": [
    "import numpy as np\n",
    "from commpy.channelcoding import Trellis, conv_encode, viterbi_decode\n",
    "from commpy.utilities import bitarray2dec\n",
    "\n",
    "# Trellis 생성 (m=6일 경우)\n",
    "trellis = Trellis(np.array([7]), np.array([[171, 133]]))\n",
    "tbl = 32\n",
    "\n",
    "def bitarray_to_decimal(bit_array, bits_per_symbol):\n",
    "    # 비트를 bits_per_symbol 비트씩 나누고, 각 조각을 십진수로 변환\n",
    "    n_symbols = len(bit_array) // bits_per_symbol\n",
    "    decimal_symbols = []\n",
    "    for i in range(n_symbols):\n",
    "        # 비트 조각 가져오기\n",
    "        bit_slice = bit_array[i * bits_per_symbol:(i + 1) * bits_per_symbol]\n",
    "        # 십진수로 변환\n",
    "        decimal_value = bitarray2dec(bit_slice)\n",
    "        decimal_symbols.append(decimal_value)\n",
    "    return np.array(decimal_symbols)\n",
    "\n",
    "def decimal_to_bitarray(decimal_array, bits_per_symbol):\n",
    "    bit_array = np.concatenate([np.array(list(np.binary_repr(d, width=bits_per_symbol)), dtype=int) for d in decimal_array])\n",
    "    return bit_array"
   ]
  },
  {
   "cell_type": "markdown",
   "metadata": {},
   "source": [
    "## Train data"
   ]
  },
  {
   "cell_type": "code",
   "execution_count": 28,
   "metadata": {},
   "outputs": [],
   "source": [
    "# #generating data of size N\n",
    "N = 160000\n",
    "label1 = np.random.randint(M1,size=N)\n",
    "label2 = np.random.randint(M2,size=N)"
   ]
  },
  {
   "cell_type": "code",
   "execution_count": 29,
   "metadata": {},
   "outputs": [],
   "source": [
    "# creating one hot encoded vectors\n",
    "data1 = []\n",
    "for i in label1:\n",
    "    temp = np.zeros(M1)\n",
    "    temp[i] = 1\n",
    "    data1.append(temp)\n",
    "\n",
    "data2 = []\n",
    "for i in label2:\n",
    "    temp = np.zeros(M2)\n",
    "    temp[i] = 1\n",
    "    data2.append(temp)"
   ]
  },
  {
   "cell_type": "code",
   "execution_count": 30,
   "metadata": {},
   "outputs": [
    {
     "name": "stdout",
     "output_type": "stream",
     "text": [
      "(160000, 8)\n",
      "(160000, 4)\n"
     ]
    }
   ],
   "source": [
    "data1 = np.array(data1)\n",
    "\n",
    "print (data1.shape)\n",
    "\n",
    "data2 = np.array(data2)\n",
    "\n",
    "print (data2.shape)"
   ]
  },
  {
   "cell_type": "code",
   "execution_count": 31,
   "metadata": {},
   "outputs": [],
   "source": [
    "# Functions that define the Channel. \n",
    "\n",
    "# First the encoder output must be converted to complex samples \n",
    "# Right now I am assuming n = 1 for simplicity\n",
    "\n",
    "def real_to_complex(x):\n",
    "    real = x[:,0]\n",
    "    imag = x[:,1]\n",
    "    return tf.reshape(tf.dtypes.complex(real,imag),shape=[-1,1])\n",
    "\n",
    "def complex_to_real(x):\n",
    "    real = tf.math.real(x)\n",
    "    imag = tf.math.imag(tf.dtypes.cast(x,tf.complex64))\n",
    "    real_expand = tf.expand_dims(real,-1)\n",
    "    imag_expand = tf.expand_dims(imag,-1)\n",
    "    concated = tf.concat([real_expand, imag_expand],-1)\n",
    "    return tf.reshape(concated,shape=[-1,2])"
   ]
  },
  {
   "cell_type": "code",
   "execution_count": 32,
   "metadata": {},
   "outputs": [],
   "source": [
    "def reyleigh_single_tap_train(x, SNRdB):\n",
    "    \n",
    "    EbNo=10.0**(-SNRdB/10.0)\n",
    "    \n",
    "    # Rayleigh 페이딩 채널의 실수 및 허수 부분 생성\n",
    "    h_real = 1/np.sqrt(2) * K.random_normal((n_channel,), mean=0, stddev=1)\n",
    "    h_imag = 1/np.sqrt(2) * K.random_normal((n_channel,), mean=0, stddev=1)\n",
    "    h = tf.dtypes.complex(h_real, h_imag)\n",
    "    \n",
    "    # 복합 AWGN 노이즈 생성\n",
    "    noise_real = np.sqrt(EbNo)/np.sqrt(2) * K.random_normal((n_channel,), mean=0, stddev=1)\n",
    "    noise_imag = np.sqrt(EbNo)/np.sqrt(2) * K.random_normal((n_channel,), mean=0, stddev=1)\n",
    "    noise = tf.dtypes.complex(noise_real, noise_imag)\n",
    "\n",
    "    # Rayleigh 페이딩 채널을 통해 전송된 신호\n",
    "    chan = tf.dtypes.cast(x, tf.complex64) + noise / h\n",
    "\n",
    "    return chan\n",
    "\n",
    "\n",
    "def reyleigh_single_tap(signal, EbNo, nrow, ncol):\n",
    "\n",
    "    signal = signal[:,0] + 1j * signal[:,1]\n",
    "    \n",
    "    signal = signal.reshape(nrow, ncol)\n",
    "    \n",
    "    # 복소수 채널 1과 채널 2를 한 번에 생성\n",
    "    h = (1/np.sqrt(2)) * (np.random.randn(nrow, ncol) + 1j * np.random.randn(nrow, ncol))\n",
    "\n",
    "    # 복소수 가우시안 노이즈 생성\n",
    "    noise = (np.sqrt(EbNo)/np.sqrt(2)) * (np.random.randn(nrow, ncol) + 1j * np.random.randn(nrow, ncol))\n",
    "\n",
    "    chan = signal + (noise / h)\n",
    "    \n",
    "    chan_real = np.real(chan)\n",
    "    chan_imag = np.imag(chan)\n",
    "    chan_split = np.stack((chan_real, chan_imag), axis=1).squeeze()\n",
    "\n",
    "    \n",
    "    return chan_split\n",
    "\n",
    "def awgn_single_tap_train(x, SNRdB):\n",
    "    \n",
    "    EbNo=10.0**(-SNRdB/10.0)\n",
    "    \n",
    "    # 복합 AWGN 노이즈 생성\n",
    "    noise_real = np.sqrt(EbNo)/np.sqrt(2) * K.random_normal((n_channel,), mean=0, stddev=1)\n",
    "    noise_imag = np.sqrt(EbNo)/np.sqrt(2) * K.random_normal((n_channel,), mean=0, stddev=1)\n",
    "    noise = tf.dtypes.complex(noise_real, noise_imag)\n",
    "\n",
    "    # Rayleigh 페이딩 채널을 통해 전송된 신호\n",
    "    chan = tf.dtypes.cast(x, tf.complex64) + noise\n",
    "    \n",
    "    return chan\n",
    "\n",
    "def awgn_single_tap(signal, EbNo, nrow, ncol):\n",
    "\n",
    "    signal = signal[:,0] + 1j * signal[:,1]\n",
    "    \n",
    "    signal = signal.reshape(nrow, ncol)\n",
    "    \n",
    "    # 복소수 가우시안 노이즈 생성\n",
    "    noise = (np.sqrt(EbNo)/np.sqrt(2)) * (np.random.randn(nrow, ncol) + 1j * np.random.randn(nrow, ncol))\n",
    "\n",
    "    chan = signal + noise\n",
    "    \n",
    "    chan_real = np.real(chan)\n",
    "    chan_imag = np.imag(chan)\n",
    "    chan_split = np.stack((chan_real, chan_imag), axis=1).squeeze()\n",
    "    \n",
    "    return chan_split"
   ]
  },
  {
   "cell_type": "code",
   "execution_count": 33,
   "metadata": {},
   "outputs": [],
   "source": [
    "class AveragePowerNormalize(Layer):\n",
    "    def __init__(self, **kwargs):\n",
    "        super(AveragePowerNormalize, self).__init__(**kwargs)\n",
    "\n",
    "    def call(self, inputs):\n",
    "        # 각 배치별 평균 전력을 계산\n",
    "        normalization_factor = K.sqrt(K.mean(K.square(inputs)))\n",
    "        \n",
    "        # 원본 입력을 그대로 유지하면서 정규화\n",
    "        return inputs / normalization_factor"
   ]
  },
  {
   "cell_type": "markdown",
   "metadata": {},
   "source": [
    "# AutoEncoder"
   ]
  },
  {
   "cell_type": "code",
   "execution_count": 34,
   "metadata": {},
   "outputs": [
    {
     "name": "stderr",
     "output_type": "stream",
     "text": [
      "WARNING:absl:At this time, the v2.11+ optimizer `tf.keras.optimizers.Adam` runs slowly on M1/M2 Macs, please use the legacy Keras optimizer instead, located at `tf.keras.optimizers.legacy.Adam`.\n"
     ]
    }
   ],
   "source": [
    "# Transmitter Layer\n",
    "input_signal1 = Input(shape=(M1,))\n",
    "input_signal2 = Input(shape=(M2,))\n",
    "\n",
    "encoded1 = Dense(M1, activation='relu')(input_signal1)\n",
    "encoded1_1 = Dense(2 * n_channel, activation='linear')(encoded1)\n",
    "encoded1_2 = BatchNormalization()(encoded1_1)\n",
    "# encoded1_3 = Lambda(lambda x: K.l2_normalize(x, axis=-1))(encoded1_2)\n",
    "encoded1_3 = AveragePowerNormalize()(encoded1_2)\n",
    "\n",
    "\n",
    "encoded2 = Dense(M2, activation='relu')(input_signal2)\n",
    "encoded2_1 = Dense(2 * n_channel, activation='linear')(encoded2)\n",
    "encoded2_2 = BatchNormalization()(encoded2_1)\n",
    "# encoded2_3 = Lambda(lambda x: K.l2_normalize(x, axis=-1))(encoded2_2)\n",
    "encoded2_3 = AveragePowerNormalize()(encoded2_2)\n",
    "\n",
    "# Reyleigh Channel Layer\n",
    "SNRdB = 30\n",
    "channel_in1 = Lambda(real_to_complex)(encoded1_3)\n",
    "channel_in2 = Lambda(real_to_complex)(encoded2_3)\n",
    "channel1 = reyleigh_single_tap_train(channel_in1, SNRdB)\n",
    "channel2 = reyleigh_single_tap_train(channel_in2, SNRdB)\n",
    "channel_out1 = Lambda(complex_to_real)(channel1)\n",
    "channel_out2 = Lambda(complex_to_real)(channel2)\n",
    "\n",
    "# Reciever Layer\n",
    "decoded1 = Dense(M1, activation='relu')(channel_out1)\n",
    "decoded1_1 = Dense(M1, activation='softmax')(decoded1)\n",
    "\n",
    "# Reciever Layer\n",
    "decoded2 = Dense(M2, activation='relu')(channel_out2)\n",
    "decoded2_1 = Dense(M2, activation='softmax')(decoded2)\n",
    "\n",
    "# 모델 생성 및 컴파일\n",
    "autoencoder = Model([input_signal1, input_signal2], [decoded1_1, decoded2_1])\n",
    "adam = Adam(learning_rate=0.0001)\n",
    "autoencoder.compile(optimizer=adam, loss='categorical_crossentropy')\n"
   ]
  },
  {
   "cell_type": "code",
   "execution_count": 35,
   "metadata": {},
   "outputs": [
    {
     "name": "stdout",
     "output_type": "stream",
     "text": [
      "Model: \"model_3\"\n",
      "__________________________________________________________________________________________________\n",
      " Layer (type)                Output Shape                 Param #   Connected to                  \n",
      "==================================================================================================\n",
      " input_5 (InputLayer)        [(None, 8)]                  0         []                            \n",
      "                                                                                                  \n",
      " input_6 (InputLayer)        [(None, 4)]                  0         []                            \n",
      "                                                                                                  \n",
      " dense_8 (Dense)             (None, 8)                    72        ['input_5[0][0]']             \n",
      "                                                                                                  \n",
      " dense_10 (Dense)            (None, 4)                    20        ['input_6[0][0]']             \n",
      "                                                                                                  \n",
      " dense_9 (Dense)             (None, 2)                    18        ['dense_8[0][0]']             \n",
      "                                                                                                  \n",
      " dense_11 (Dense)            (None, 2)                    10        ['dense_10[0][0]']            \n",
      "                                                                                                  \n",
      " batch_normalization_2 (Bat  (None, 2)                    8         ['dense_9[0][0]']             \n",
      " chNormalization)                                                                                 \n",
      "                                                                                                  \n",
      " batch_normalization_3 (Bat  (None, 2)                    8         ['dense_11[0][0]']            \n",
      " chNormalization)                                                                                 \n",
      "                                                                                                  \n",
      " average_power_normalize_2   (None, 2)                    0         ['batch_normalization_2[0][0]'\n",
      " (AveragePowerNormalize)                                            ]                             \n",
      "                                                                                                  \n",
      " average_power_normalize_3   (None, 2)                    0         ['batch_normalization_3[0][0]'\n",
      " (AveragePowerNormalize)                                            ]                             \n",
      "                                                                                                  \n",
      " lambda_4 (Lambda)           (None, 1)                    0         ['average_power_normalize_2[0]\n",
      "                                                                    [0]']                         \n",
      "                                                                                                  \n",
      " lambda_5 (Lambda)           (None, 1)                    0         ['average_power_normalize_3[0]\n",
      "                                                                    [0]']                         \n",
      "                                                                                                  \n",
      " tf.cast_2 (TFOpLambda)      (None, 1)                    0         ['lambda_4[0][0]']            \n",
      "                                                                                                  \n",
      " tf.cast_3 (TFOpLambda)      (None, 1)                    0         ['lambda_5[0][0]']            \n",
      "                                                                                                  \n",
      " tf.__operators__.add_2 (TF  (None, 1)                    0         ['tf.cast_2[0][0]']           \n",
      " OpLambda)                                                                                        \n",
      "                                                                                                  \n",
      " tf.__operators__.add_3 (TF  (None, 1)                    0         ['tf.cast_3[0][0]']           \n",
      " OpLambda)                                                                                        \n",
      "                                                                                                  \n",
      " lambda_6 (Lambda)           (None, 2)                    0         ['tf.__operators__.add_2[0][0]\n",
      "                                                                    ']                            \n",
      "                                                                                                  \n",
      " lambda_7 (Lambda)           (None, 2)                    0         ['tf.__operators__.add_3[0][0]\n",
      "                                                                    ']                            \n",
      "                                                                                                  \n",
      " dense_12 (Dense)            (None, 8)                    24        ['lambda_6[0][0]']            \n",
      "                                                                                                  \n",
      " dense_14 (Dense)            (None, 4)                    12        ['lambda_7[0][0]']            \n",
      "                                                                                                  \n",
      " dense_13 (Dense)            (None, 8)                    72        ['dense_12[0][0]']            \n",
      "                                                                                                  \n",
      " dense_15 (Dense)            (None, 4)                    20        ['dense_14[0][0]']            \n",
      "                                                                                                  \n",
      "==================================================================================================\n",
      "Total params: 264 (1.03 KB)\n",
      "Trainable params: 256 (1.00 KB)\n",
      "Non-trainable params: 8 (32.00 Byte)\n",
      "__________________________________________________________________________________________________\n",
      "None\n"
     ]
    }
   ],
   "source": [
    "print(autoencoder.summary())"
   ]
  },
  {
   "cell_type": "markdown",
   "metadata": {},
   "source": [
    "# TRAIN"
   ]
  },
  {
   "cell_type": "code",
   "execution_count": 36,
   "metadata": {},
   "outputs": [
    {
     "name": "stdout",
     "output_type": "stream",
     "text": [
      "Epoch 1/45\n",
      "5000/5000 [==============================] - 3s 417us/step - loss: 1.8426 - dense_13_loss: 1.1970 - dense_15_loss: 0.6456\n",
      "Epoch 2/45\n",
      "5000/5000 [==============================] - 2s 415us/step - loss: 0.6762 - dense_13_loss: 0.4508 - dense_15_loss: 0.2255\n",
      "Epoch 3/45\n",
      "5000/5000 [==============================] - 2s 424us/step - loss: 0.2804 - dense_13_loss: 0.1750 - dense_15_loss: 0.1054\n",
      "Epoch 4/45\n",
      "   1/5000 [..............................] - ETA: 3s - loss: 0.2627 - dense_13_loss: 0.1853 - dense_15_loss: 0.0774"
     ]
    },
    {
     "ename": "KeyboardInterrupt",
     "evalue": "",
     "output_type": "error",
     "traceback": [
      "\u001b[0;31m---------------------------------------------------------------------------\u001b[0m",
      "\u001b[0;31mKeyboardInterrupt\u001b[0m                         Traceback (most recent call last)",
      "Cell \u001b[0;32mIn[36], line 2\u001b[0m\n\u001b[1;32m      1\u001b[0m \u001b[38;5;66;03m# traning auto encoder\u001b[39;00m\n\u001b[0;32m----> 2\u001b[0m \u001b[43mautoencoder\u001b[49m\u001b[38;5;241;43m.\u001b[39;49m\u001b[43mfit\u001b[49m\u001b[43m(\u001b[49m\u001b[43m[\u001b[49m\u001b[43mdata1\u001b[49m\u001b[43m,\u001b[49m\u001b[43m \u001b[49m\u001b[43mdata2\u001b[49m\u001b[43m]\u001b[49m\u001b[43m,\u001b[49m\u001b[43m \u001b[49m\u001b[43m[\u001b[49m\u001b[43mdata1\u001b[49m\u001b[43m,\u001b[49m\u001b[43m \u001b[49m\u001b[43mdata2\u001b[49m\u001b[43m]\u001b[49m\u001b[43m,\u001b[49m\n\u001b[1;32m      3\u001b[0m \u001b[43m                \u001b[49m\u001b[43mepochs\u001b[49m\u001b[38;5;241;43m=\u001b[39;49m\u001b[38;5;241;43m45\u001b[39;49m\u001b[43m,\u001b[49m\n\u001b[1;32m      4\u001b[0m \u001b[43m                \u001b[49m\u001b[43mbatch_size\u001b[49m\u001b[38;5;241;43m=\u001b[39;49m\u001b[38;5;241;43m32\u001b[39;49m\u001b[43m)\u001b[49m\n",
      "File \u001b[0;32m/opt/anaconda3/envs/zero_jelly/lib/python3.10/site-packages/keras/src/utils/traceback_utils.py:65\u001b[0m, in \u001b[0;36mfilter_traceback.<locals>.error_handler\u001b[0;34m(*args, **kwargs)\u001b[0m\n\u001b[1;32m     63\u001b[0m filtered_tb \u001b[38;5;241m=\u001b[39m \u001b[38;5;28;01mNone\u001b[39;00m\n\u001b[1;32m     64\u001b[0m \u001b[38;5;28;01mtry\u001b[39;00m:\n\u001b[0;32m---> 65\u001b[0m     \u001b[38;5;28;01mreturn\u001b[39;00m \u001b[43mfn\u001b[49m\u001b[43m(\u001b[49m\u001b[38;5;241;43m*\u001b[39;49m\u001b[43margs\u001b[49m\u001b[43m,\u001b[49m\u001b[43m \u001b[49m\u001b[38;5;241;43m*\u001b[39;49m\u001b[38;5;241;43m*\u001b[39;49m\u001b[43mkwargs\u001b[49m\u001b[43m)\u001b[49m\n\u001b[1;32m     66\u001b[0m \u001b[38;5;28;01mexcept\u001b[39;00m \u001b[38;5;167;01mException\u001b[39;00m \u001b[38;5;28;01mas\u001b[39;00m e:\n\u001b[1;32m     67\u001b[0m     filtered_tb \u001b[38;5;241m=\u001b[39m _process_traceback_frames(e\u001b[38;5;241m.\u001b[39m__traceback__)\n",
      "File \u001b[0;32m/opt/anaconda3/envs/zero_jelly/lib/python3.10/site-packages/keras/src/engine/training.py:1807\u001b[0m, in \u001b[0;36mModel.fit\u001b[0;34m(self, x, y, batch_size, epochs, verbose, callbacks, validation_split, validation_data, shuffle, class_weight, sample_weight, initial_epoch, steps_per_epoch, validation_steps, validation_batch_size, validation_freq, max_queue_size, workers, use_multiprocessing)\u001b[0m\n\u001b[1;32m   1799\u001b[0m \u001b[38;5;28;01mwith\u001b[39;00m tf\u001b[38;5;241m.\u001b[39mprofiler\u001b[38;5;241m.\u001b[39mexperimental\u001b[38;5;241m.\u001b[39mTrace(\n\u001b[1;32m   1800\u001b[0m     \u001b[38;5;124m\"\u001b[39m\u001b[38;5;124mtrain\u001b[39m\u001b[38;5;124m\"\u001b[39m,\n\u001b[1;32m   1801\u001b[0m     epoch_num\u001b[38;5;241m=\u001b[39mepoch,\n\u001b[0;32m   (...)\u001b[0m\n\u001b[1;32m   1804\u001b[0m     _r\u001b[38;5;241m=\u001b[39m\u001b[38;5;241m1\u001b[39m,\n\u001b[1;32m   1805\u001b[0m ):\n\u001b[1;32m   1806\u001b[0m     callbacks\u001b[38;5;241m.\u001b[39mon_train_batch_begin(step)\n\u001b[0;32m-> 1807\u001b[0m     tmp_logs \u001b[38;5;241m=\u001b[39m \u001b[38;5;28;43mself\u001b[39;49m\u001b[38;5;241;43m.\u001b[39;49m\u001b[43mtrain_function\u001b[49m\u001b[43m(\u001b[49m\u001b[43miterator\u001b[49m\u001b[43m)\u001b[49m\n\u001b[1;32m   1808\u001b[0m     \u001b[38;5;28;01mif\u001b[39;00m data_handler\u001b[38;5;241m.\u001b[39mshould_sync:\n\u001b[1;32m   1809\u001b[0m         context\u001b[38;5;241m.\u001b[39masync_wait()\n",
      "File \u001b[0;32m/opt/anaconda3/envs/zero_jelly/lib/python3.10/site-packages/tensorflow/python/util/traceback_utils.py:150\u001b[0m, in \u001b[0;36mfilter_traceback.<locals>.error_handler\u001b[0;34m(*args, **kwargs)\u001b[0m\n\u001b[1;32m    148\u001b[0m filtered_tb \u001b[38;5;241m=\u001b[39m \u001b[38;5;28;01mNone\u001b[39;00m\n\u001b[1;32m    149\u001b[0m \u001b[38;5;28;01mtry\u001b[39;00m:\n\u001b[0;32m--> 150\u001b[0m   \u001b[38;5;28;01mreturn\u001b[39;00m \u001b[43mfn\u001b[49m\u001b[43m(\u001b[49m\u001b[38;5;241;43m*\u001b[39;49m\u001b[43margs\u001b[49m\u001b[43m,\u001b[49m\u001b[43m \u001b[49m\u001b[38;5;241;43m*\u001b[39;49m\u001b[38;5;241;43m*\u001b[39;49m\u001b[43mkwargs\u001b[49m\u001b[43m)\u001b[49m\n\u001b[1;32m    151\u001b[0m \u001b[38;5;28;01mexcept\u001b[39;00m \u001b[38;5;167;01mException\u001b[39;00m \u001b[38;5;28;01mas\u001b[39;00m e:\n\u001b[1;32m    152\u001b[0m   filtered_tb \u001b[38;5;241m=\u001b[39m _process_traceback_frames(e\u001b[38;5;241m.\u001b[39m__traceback__)\n",
      "File \u001b[0;32m/opt/anaconda3/envs/zero_jelly/lib/python3.10/site-packages/tensorflow/python/eager/polymorphic_function/polymorphic_function.py:832\u001b[0m, in \u001b[0;36mFunction.__call__\u001b[0;34m(self, *args, **kwds)\u001b[0m\n\u001b[1;32m    829\u001b[0m compiler \u001b[38;5;241m=\u001b[39m \u001b[38;5;124m\"\u001b[39m\u001b[38;5;124mxla\u001b[39m\u001b[38;5;124m\"\u001b[39m \u001b[38;5;28;01mif\u001b[39;00m \u001b[38;5;28mself\u001b[39m\u001b[38;5;241m.\u001b[39m_jit_compile \u001b[38;5;28;01melse\u001b[39;00m \u001b[38;5;124m\"\u001b[39m\u001b[38;5;124mnonXla\u001b[39m\u001b[38;5;124m\"\u001b[39m\n\u001b[1;32m    831\u001b[0m \u001b[38;5;28;01mwith\u001b[39;00m OptionalXlaContext(\u001b[38;5;28mself\u001b[39m\u001b[38;5;241m.\u001b[39m_jit_compile):\n\u001b[0;32m--> 832\u001b[0m   result \u001b[38;5;241m=\u001b[39m \u001b[38;5;28;43mself\u001b[39;49m\u001b[38;5;241;43m.\u001b[39;49m\u001b[43m_call\u001b[49m\u001b[43m(\u001b[49m\u001b[38;5;241;43m*\u001b[39;49m\u001b[43margs\u001b[49m\u001b[43m,\u001b[49m\u001b[43m \u001b[49m\u001b[38;5;241;43m*\u001b[39;49m\u001b[38;5;241;43m*\u001b[39;49m\u001b[43mkwds\u001b[49m\u001b[43m)\u001b[49m\n\u001b[1;32m    834\u001b[0m new_tracing_count \u001b[38;5;241m=\u001b[39m \u001b[38;5;28mself\u001b[39m\u001b[38;5;241m.\u001b[39mexperimental_get_tracing_count()\n\u001b[1;32m    835\u001b[0m without_tracing \u001b[38;5;241m=\u001b[39m (tracing_count \u001b[38;5;241m==\u001b[39m new_tracing_count)\n",
      "File \u001b[0;32m/opt/anaconda3/envs/zero_jelly/lib/python3.10/site-packages/tensorflow/python/eager/polymorphic_function/polymorphic_function.py:868\u001b[0m, in \u001b[0;36mFunction._call\u001b[0;34m(self, *args, **kwds)\u001b[0m\n\u001b[1;32m    865\u001b[0m   \u001b[38;5;28mself\u001b[39m\u001b[38;5;241m.\u001b[39m_lock\u001b[38;5;241m.\u001b[39mrelease()\n\u001b[1;32m    866\u001b[0m   \u001b[38;5;66;03m# In this case we have created variables on the first call, so we run the\u001b[39;00m\n\u001b[1;32m    867\u001b[0m   \u001b[38;5;66;03m# defunned version which is guaranteed to never create variables.\u001b[39;00m\n\u001b[0;32m--> 868\u001b[0m   \u001b[38;5;28;01mreturn\u001b[39;00m \u001b[43mtracing_compilation\u001b[49m\u001b[38;5;241;43m.\u001b[39;49m\u001b[43mcall_function\u001b[49m\u001b[43m(\u001b[49m\n\u001b[1;32m    869\u001b[0m \u001b[43m      \u001b[49m\u001b[43margs\u001b[49m\u001b[43m,\u001b[49m\u001b[43m \u001b[49m\u001b[43mkwds\u001b[49m\u001b[43m,\u001b[49m\u001b[43m \u001b[49m\u001b[38;5;28;43mself\u001b[39;49m\u001b[38;5;241;43m.\u001b[39;49m\u001b[43m_no_variable_creation_config\u001b[49m\n\u001b[1;32m    870\u001b[0m \u001b[43m  \u001b[49m\u001b[43m)\u001b[49m\n\u001b[1;32m    871\u001b[0m \u001b[38;5;28;01melif\u001b[39;00m \u001b[38;5;28mself\u001b[39m\u001b[38;5;241m.\u001b[39m_variable_creation_config \u001b[38;5;129;01mis\u001b[39;00m \u001b[38;5;129;01mnot\u001b[39;00m \u001b[38;5;28;01mNone\u001b[39;00m:\n\u001b[1;32m    872\u001b[0m   \u001b[38;5;66;03m# Release the lock early so that multiple threads can perform the call\u001b[39;00m\n\u001b[1;32m    873\u001b[0m   \u001b[38;5;66;03m# in parallel.\u001b[39;00m\n\u001b[1;32m    874\u001b[0m   \u001b[38;5;28mself\u001b[39m\u001b[38;5;241m.\u001b[39m_lock\u001b[38;5;241m.\u001b[39mrelease()\n",
      "File \u001b[0;32m/opt/anaconda3/envs/zero_jelly/lib/python3.10/site-packages/tensorflow/python/eager/polymorphic_function/tracing_compilation.py:138\u001b[0m, in \u001b[0;36mcall_function\u001b[0;34m(args, kwargs, tracing_options)\u001b[0m\n\u001b[1;32m    136\u001b[0m \u001b[38;5;66;03m# Bind it ourselves to skip unnecessary canonicalization of default call.\u001b[39;00m\n\u001b[1;32m    137\u001b[0m bound_args \u001b[38;5;241m=\u001b[39m function\u001b[38;5;241m.\u001b[39mfunction_type\u001b[38;5;241m.\u001b[39mbind(\u001b[38;5;241m*\u001b[39margs, \u001b[38;5;241m*\u001b[39m\u001b[38;5;241m*\u001b[39mkwargs)\n\u001b[0;32m--> 138\u001b[0m flat_inputs \u001b[38;5;241m=\u001b[39m \u001b[43mfunction\u001b[49m\u001b[38;5;241;43m.\u001b[39;49m\u001b[43mfunction_type\u001b[49m\u001b[38;5;241;43m.\u001b[39;49m\u001b[43munpack_inputs\u001b[49m\u001b[43m(\u001b[49m\u001b[43mbound_args\u001b[49m\u001b[43m)\u001b[49m\n\u001b[1;32m    139\u001b[0m \u001b[38;5;28;01mreturn\u001b[39;00m function\u001b[38;5;241m.\u001b[39m_call_flat(  \u001b[38;5;66;03m# pylint: disable=protected-access\u001b[39;00m\n\u001b[1;32m    140\u001b[0m     flat_inputs, captured_inputs\u001b[38;5;241m=\u001b[39mfunction\u001b[38;5;241m.\u001b[39mcaptured_inputs\n\u001b[1;32m    141\u001b[0m )\n",
      "File \u001b[0;32m/opt/anaconda3/envs/zero_jelly/lib/python3.10/site-packages/tensorflow/core/function/polymorphism/function_type.py:391\u001b[0m, in \u001b[0;36mFunctionType.unpack_inputs\u001b[0;34m(self, bound_parameters)\u001b[0m\n\u001b[1;32m    388\u001b[0m flat \u001b[38;5;241m=\u001b[39m []\n\u001b[1;32m    389\u001b[0m \u001b[38;5;28;01mfor\u001b[39;00m p \u001b[38;5;129;01min\u001b[39;00m sorted_parameters:\n\u001b[1;32m    390\u001b[0m   flat\u001b[38;5;241m.\u001b[39mextend(\n\u001b[0;32m--> 391\u001b[0m       \u001b[43mp\u001b[49m\u001b[38;5;241;43m.\u001b[39;49m\u001b[43mtype_constraint\u001b[49m\u001b[38;5;241;43m.\u001b[39;49m\u001b[43mto_tensors\u001b[49m\u001b[43m(\u001b[49m\u001b[43mbound_parameters\u001b[49m\u001b[38;5;241;43m.\u001b[39;49m\u001b[43marguments\u001b[49m\u001b[43m[\u001b[49m\u001b[43mp\u001b[49m\u001b[38;5;241;43m.\u001b[39;49m\u001b[43mname\u001b[49m\u001b[43m]\u001b[49m\u001b[43m)\u001b[49m\n\u001b[1;32m    392\u001b[0m   )\n\u001b[1;32m    394\u001b[0m dealiased_inputs \u001b[38;5;241m=\u001b[39m []\n\u001b[1;32m    395\u001b[0m ids_used \u001b[38;5;241m=\u001b[39m \u001b[38;5;28mset\u001b[39m()\n",
      "File \u001b[0;32m/opt/anaconda3/envs/zero_jelly/lib/python3.10/site-packages/tensorflow/python/framework/type_spec.py:252\u001b[0m, in \u001b[0;36mTypeSpec.to_tensors\u001b[0;34m(self, value)\u001b[0m\n\u001b[1;32m    249\u001b[0m \u001b[38;5;250m\u001b[39m\u001b[38;5;124;03m\"\"\"See TraceType base class for details. Do not override.\"\"\"\u001b[39;00m\n\u001b[1;32m    251\u001b[0m tensors \u001b[38;5;241m=\u001b[39m []\n\u001b[0;32m--> 252\u001b[0m \u001b[43mnest\u001b[49m\u001b[38;5;241;43m.\u001b[39;49m\u001b[43mmap_structure\u001b[49m\u001b[43m(\u001b[49m\n\u001b[1;32m    253\u001b[0m \u001b[43m    \u001b[49m\u001b[38;5;28;43;01mlambda\u001b[39;49;00m\u001b[43m \u001b[49m\u001b[43mspec\u001b[49m\u001b[43m,\u001b[49m\u001b[43m \u001b[49m\u001b[43mv\u001b[49m\u001b[43m:\u001b[49m\u001b[43m \u001b[49m\u001b[43mtensors\u001b[49m\u001b[38;5;241;43m.\u001b[39;49m\u001b[43mextend\u001b[49m\u001b[43m(\u001b[49m\u001b[43mspec\u001b[49m\u001b[38;5;241;43m.\u001b[39;49m\u001b[43mto_tensors\u001b[49m\u001b[43m(\u001b[49m\u001b[43mv\u001b[49m\u001b[43m)\u001b[49m\u001b[43m)\u001b[49m\u001b[43m,\u001b[49m\n\u001b[1;32m    254\u001b[0m \u001b[43m    \u001b[49m\u001b[38;5;28;43mself\u001b[39;49m\u001b[38;5;241;43m.\u001b[39;49m\u001b[43m_component_specs\u001b[49m\u001b[43m,\u001b[49m\n\u001b[1;32m    255\u001b[0m \u001b[43m    \u001b[49m\u001b[38;5;28;43mself\u001b[39;49m\u001b[38;5;241;43m.\u001b[39;49m\u001b[43m_to_components\u001b[49m\u001b[43m(\u001b[49m\u001b[43mvalue\u001b[49m\u001b[43m)\u001b[49m\u001b[43m)\u001b[49m\n\u001b[1;32m    256\u001b[0m \u001b[38;5;28;01mreturn\u001b[39;00m tensors\n",
      "File \u001b[0;32m/opt/anaconda3/envs/zero_jelly/lib/python3.10/site-packages/tensorflow/python/util/nest.py:631\u001b[0m, in \u001b[0;36mmap_structure\u001b[0;34m(func, *structure, **kwargs)\u001b[0m\n\u001b[1;32m    545\u001b[0m \u001b[38;5;129m@tf_export\u001b[39m(\u001b[38;5;124m\"\u001b[39m\u001b[38;5;124mnest.map_structure\u001b[39m\u001b[38;5;124m\"\u001b[39m)\n\u001b[1;32m    546\u001b[0m \u001b[38;5;28;01mdef\u001b[39;00m \u001b[38;5;21mmap_structure\u001b[39m(func, \u001b[38;5;241m*\u001b[39mstructure, \u001b[38;5;241m*\u001b[39m\u001b[38;5;241m*\u001b[39mkwargs):\n\u001b[1;32m    547\u001b[0m \u001b[38;5;250m  \u001b[39m\u001b[38;5;124;03m\"\"\"Creates a new structure by applying `func` to each atom in `structure`.\u001b[39;00m\n\u001b[1;32m    548\u001b[0m \n\u001b[1;32m    549\u001b[0m \u001b[38;5;124;03m  Refer to [tf.nest](https://www.tensorflow.org/api_docs/python/tf/nest)\u001b[39;00m\n\u001b[0;32m   (...)\u001b[0m\n\u001b[1;32m    629\u001b[0m \u001b[38;5;124;03m    ValueError: If wrong keyword arguments are provided.\u001b[39;00m\n\u001b[1;32m    630\u001b[0m \u001b[38;5;124;03m  \"\"\"\u001b[39;00m\n\u001b[0;32m--> 631\u001b[0m   \u001b[38;5;28;01mreturn\u001b[39;00m \u001b[43mnest_util\u001b[49m\u001b[38;5;241;43m.\u001b[39;49m\u001b[43mmap_structure\u001b[49m\u001b[43m(\u001b[49m\n\u001b[1;32m    632\u001b[0m \u001b[43m      \u001b[49m\u001b[43mnest_util\u001b[49m\u001b[38;5;241;43m.\u001b[39;49m\u001b[43mModality\u001b[49m\u001b[38;5;241;43m.\u001b[39;49m\u001b[43mCORE\u001b[49m\u001b[43m,\u001b[49m\u001b[43m \u001b[49m\u001b[43mfunc\u001b[49m\u001b[43m,\u001b[49m\u001b[43m \u001b[49m\u001b[38;5;241;43m*\u001b[39;49m\u001b[43mstructure\u001b[49m\u001b[43m,\u001b[49m\u001b[43m \u001b[49m\u001b[38;5;241;43m*\u001b[39;49m\u001b[38;5;241;43m*\u001b[39;49m\u001b[43mkwargs\u001b[49m\n\u001b[1;32m    633\u001b[0m \u001b[43m  \u001b[49m\u001b[43m)\u001b[49m\n",
      "File \u001b[0;32m/opt/anaconda3/envs/zero_jelly/lib/python3.10/site-packages/tensorflow/python/util/nest_util.py:1066\u001b[0m, in \u001b[0;36mmap_structure\u001b[0;34m(modality, func, *structure, **kwargs)\u001b[0m\n\u001b[1;32m    969\u001b[0m \u001b[38;5;250m\u001b[39m\u001b[38;5;124;03m\"\"\"Creates a new structure by applying `func` to each atom in `structure`.\u001b[39;00m\n\u001b[1;32m    970\u001b[0m \n\u001b[1;32m    971\u001b[0m \u001b[38;5;124;03m- For Modality.CORE: Refer to\u001b[39;00m\n\u001b[0;32m   (...)\u001b[0m\n\u001b[1;32m   1063\u001b[0m \u001b[38;5;124;03m  ValueError: If wrong keyword arguments are provided.\u001b[39;00m\n\u001b[1;32m   1064\u001b[0m \u001b[38;5;124;03m\"\"\"\u001b[39;00m\n\u001b[1;32m   1065\u001b[0m \u001b[38;5;28;01mif\u001b[39;00m modality \u001b[38;5;241m==\u001b[39m Modality\u001b[38;5;241m.\u001b[39mCORE:\n\u001b[0;32m-> 1066\u001b[0m   \u001b[38;5;28;01mreturn\u001b[39;00m \u001b[43m_tf_core_map_structure\u001b[49m\u001b[43m(\u001b[49m\u001b[43mfunc\u001b[49m\u001b[43m,\u001b[49m\u001b[43m \u001b[49m\u001b[38;5;241;43m*\u001b[39;49m\u001b[43mstructure\u001b[49m\u001b[43m,\u001b[49m\u001b[43m \u001b[49m\u001b[38;5;241;43m*\u001b[39;49m\u001b[38;5;241;43m*\u001b[39;49m\u001b[43mkwargs\u001b[49m\u001b[43m)\u001b[49m\n\u001b[1;32m   1067\u001b[0m \u001b[38;5;28;01melif\u001b[39;00m modality \u001b[38;5;241m==\u001b[39m Modality\u001b[38;5;241m.\u001b[39mDATA:\n\u001b[1;32m   1068\u001b[0m   \u001b[38;5;28;01mreturn\u001b[39;00m _tf_data_map_structure(func, \u001b[38;5;241m*\u001b[39mstructure, \u001b[38;5;241m*\u001b[39m\u001b[38;5;241m*\u001b[39mkwargs)\n",
      "File \u001b[0;32m/opt/anaconda3/envs/zero_jelly/lib/python3.10/site-packages/tensorflow/python/util/nest_util.py:1102\u001b[0m, in \u001b[0;36m_tf_core_map_structure\u001b[0;34m(func, *structure, **kwargs)\u001b[0m\n\u001b[1;32m   1094\u001b[0m   _tf_core_assert_same_structure(\n\u001b[1;32m   1095\u001b[0m       structure[\u001b[38;5;241m0\u001b[39m],\n\u001b[1;32m   1096\u001b[0m       other,\n\u001b[1;32m   1097\u001b[0m       check_types\u001b[38;5;241m=\u001b[39mcheck_types,\n\u001b[1;32m   1098\u001b[0m       expand_composites\u001b[38;5;241m=\u001b[39mexpand_composites,\n\u001b[1;32m   1099\u001b[0m   )\n\u001b[1;32m   1101\u001b[0m flat_structure \u001b[38;5;241m=\u001b[39m (_tf_core_flatten(s, expand_composites) \u001b[38;5;28;01mfor\u001b[39;00m s \u001b[38;5;129;01min\u001b[39;00m structure)\n\u001b[0;32m-> 1102\u001b[0m entries \u001b[38;5;241m=\u001b[39m \u001b[38;5;28;43mzip\u001b[39;49m\u001b[43m(\u001b[49m\u001b[38;5;241;43m*\u001b[39;49m\u001b[43mflat_structure\u001b[49m\u001b[43m)\u001b[49m\n\u001b[1;32m   1104\u001b[0m \u001b[38;5;28;01mreturn\u001b[39;00m _tf_core_pack_sequence_as(\n\u001b[1;32m   1105\u001b[0m     structure[\u001b[38;5;241m0\u001b[39m],\n\u001b[1;32m   1106\u001b[0m     [func(\u001b[38;5;241m*\u001b[39mx) \u001b[38;5;28;01mfor\u001b[39;00m x \u001b[38;5;129;01min\u001b[39;00m entries],\n\u001b[1;32m   1107\u001b[0m     expand_composites\u001b[38;5;241m=\u001b[39mexpand_composites,\n\u001b[1;32m   1108\u001b[0m )\n",
      "File \u001b[0;32m/opt/anaconda3/envs/zero_jelly/lib/python3.10/site-packages/tensorflow/python/util/nest_util.py:1101\u001b[0m, in \u001b[0;36m<genexpr>\u001b[0;34m(.0)\u001b[0m\n\u001b[1;32m   1093\u001b[0m \u001b[38;5;28;01mfor\u001b[39;00m other \u001b[38;5;129;01min\u001b[39;00m structure[\u001b[38;5;241m1\u001b[39m:]:\n\u001b[1;32m   1094\u001b[0m   _tf_core_assert_same_structure(\n\u001b[1;32m   1095\u001b[0m       structure[\u001b[38;5;241m0\u001b[39m],\n\u001b[1;32m   1096\u001b[0m       other,\n\u001b[1;32m   1097\u001b[0m       check_types\u001b[38;5;241m=\u001b[39mcheck_types,\n\u001b[1;32m   1098\u001b[0m       expand_composites\u001b[38;5;241m=\u001b[39mexpand_composites,\n\u001b[1;32m   1099\u001b[0m   )\n\u001b[0;32m-> 1101\u001b[0m flat_structure \u001b[38;5;241m=\u001b[39m (\u001b[43m_tf_core_flatten\u001b[49m\u001b[43m(\u001b[49m\u001b[43ms\u001b[49m\u001b[43m,\u001b[49m\u001b[43m \u001b[49m\u001b[43mexpand_composites\u001b[49m\u001b[43m)\u001b[49m \u001b[38;5;28;01mfor\u001b[39;00m s \u001b[38;5;129;01min\u001b[39;00m structure)\n\u001b[1;32m   1102\u001b[0m entries \u001b[38;5;241m=\u001b[39m \u001b[38;5;28mzip\u001b[39m(\u001b[38;5;241m*\u001b[39mflat_structure)\n\u001b[1;32m   1104\u001b[0m \u001b[38;5;28;01mreturn\u001b[39;00m _tf_core_pack_sequence_as(\n\u001b[1;32m   1105\u001b[0m     structure[\u001b[38;5;241m0\u001b[39m],\n\u001b[1;32m   1106\u001b[0m     [func(\u001b[38;5;241m*\u001b[39mx) \u001b[38;5;28;01mfor\u001b[39;00m x \u001b[38;5;129;01min\u001b[39;00m entries],\n\u001b[1;32m   1107\u001b[0m     expand_composites\u001b[38;5;241m=\u001b[39mexpand_composites,\n\u001b[1;32m   1108\u001b[0m )\n",
      "File \u001b[0;32m/opt/anaconda3/envs/zero_jelly/lib/python3.10/site-packages/tensorflow/python/util/nest_util.py:727\u001b[0m, in \u001b[0;36m_tf_core_flatten\u001b[0;34m(structure, expand_composites)\u001b[0m\n\u001b[1;32m    725\u001b[0m   \u001b[38;5;28;01mreturn\u001b[39;00m [\u001b[38;5;28;01mNone\u001b[39;00m]\n\u001b[1;32m    726\u001b[0m expand_composites \u001b[38;5;241m=\u001b[39m \u001b[38;5;28mbool\u001b[39m(expand_composites)\n\u001b[0;32m--> 727\u001b[0m \u001b[38;5;28;01mreturn\u001b[39;00m \u001b[43m_pywrap_utils\u001b[49m\u001b[38;5;241;43m.\u001b[39;49m\u001b[43mFlatten\u001b[49m\u001b[43m(\u001b[49m\u001b[43mstructure\u001b[49m\u001b[43m,\u001b[49m\u001b[43m \u001b[49m\u001b[43mexpand_composites\u001b[49m\u001b[43m)\u001b[49m\n",
      "\u001b[0;31mKeyboardInterrupt\u001b[0m: "
     ]
    }
   ],
   "source": [
    "# traning auto encoder\n",
    "autoencoder.fit([data1, data2], [data1, data2],\n",
    "                epochs=45,\n",
    "                batch_size=32)"
   ]
  },
  {
   "cell_type": "markdown",
   "metadata": {},
   "source": [
    "# TEST"
   ]
  },
  {
   "cell_type": "markdown",
   "metadata": {},
   "source": [
    "### Encoder"
   ]
  },
  {
   "cell_type": "code",
   "execution_count": 37,
   "metadata": {},
   "outputs": [],
   "source": [
    "# making encoder from full autoencoder\n",
    "encoder = Model([input_signal1, input_signal2], [encoded1_3, encoded2_3])"
   ]
  },
  {
   "cell_type": "markdown",
   "metadata": {},
   "source": [
    "### Decoder"
   ]
  },
  {
   "cell_type": "code",
   "execution_count": 38,
   "metadata": {},
   "outputs": [],
   "source": [
    "# making decoder from full autoencoder\n",
    "encoded_input1 = Input(shape=(2 * n_channel,))\n",
    "encoded_input2 = Input(shape=(2 * n_channel,))\n",
    "\n",
    "deco1 = autoencoder.layers[-4](encoded_input1)\n",
    "deco1 = autoencoder.layers[-2](deco1)\n",
    "\n",
    "deco2 = autoencoder.layers[-3](encoded_input2)\n",
    "deco2 = autoencoder.layers[-1](deco2)\n",
    "\n",
    "decoder = Model([encoded_input1, encoded_input2], [deco1, deco2])"
   ]
  },
  {
   "cell_type": "markdown",
   "metadata": {},
   "source": [
    "### Convolution Code test data"
   ]
  },
  {
   "cell_type": "code",
   "execution_count": 39,
   "metadata": {},
   "outputs": [],
   "source": [
    "N = 5000\n",
    "\n",
    "# test data conv1\n",
    "log2M1 = int(np.log2(M1))\n",
    "test_userBit1 = np.random.randint(0, 2, N * log2M1)\n",
    "\n",
    "test_userBit1_Conv = conv_encode(test_userBit1, trellis)\n",
    "\n",
    "test_userBit1_Conv = test_userBit1_Conv[:2 * len(test_userBit1)]\n",
    "\n",
    "test_userData1 = bitarray_to_decimal(test_userBit1_Conv, log2M1)  # 부호화된 심볼을 십진수로 변환\n",
    "\n",
    "test_conv_data1 = []\n",
    "\n",
    "for i in test_userData1:\n",
    "    temp = np.zeros(M1)\n",
    "    temp[i] = 1\n",
    "    test_conv_data1.append(temp)\n",
    "\n",
    "test_conv_data1 = np.array(test_conv_data1)\n",
    "\n",
    "\n",
    "# test data conv2\n",
    "log2M2 = int(np.log2(M2))\n",
    "test_userBit2 = np.random.randint(0, 2, N * log2M2)\n",
    "\n",
    "test_userBit2_Conv = conv_encode(test_userBit2, trellis)\n",
    "\n",
    "test_userBit2_Conv = test_userBit2_Conv[:2 * len(test_userBit2)]\n",
    "\n",
    "test_userData2 = bitarray_to_decimal(test_userBit2_Conv, log2M2)  # 부호화된 심볼을 십진수로 변환\n",
    "\n",
    "test_conv_data2 = []\n",
    "\n",
    "for i in test_userData2:\n",
    "    temp = np.zeros(M2)\n",
    "    temp[i] = 1\n",
    "    test_conv_data2.append(temp)\n",
    "\n",
    "test_conv_data2 = np.array(test_conv_data2)"
   ]
  },
  {
   "cell_type": "markdown",
   "metadata": {},
   "source": [
    "### test data"
   ]
  },
  {
   "cell_type": "code",
   "execution_count": 40,
   "metadata": {},
   "outputs": [],
   "source": [
    "# generating data for checking BER\n",
    "# if you're not using t-sne for visulation than set N to 70,000 for better result \n",
    "# for t-sne use less N like N = 1500\n",
    "\n",
    "# test data1\n",
    "test_label1 = np.random.randint(M1,size=N)\n",
    "test_data1 = []\n",
    "\n",
    "for i in test_label1:\n",
    "    temp = np.zeros(M1)\n",
    "    temp[i] = 1\n",
    "    test_data1.append(temp)\n",
    "\n",
    "test_data1 = np.array(test_data1)\n",
    "\n",
    "# test data2\n",
    "test_label2 = np.random.randint(M2,size=N)\n",
    "test_data2 = []\n",
    "\n",
    "for i in test_label2:\n",
    "    temp = np.zeros(M2)\n",
    "    temp[i] = 1\n",
    "    test_data2.append(temp)\n",
    "\n",
    "test_data2 = np.array(test_data2)"
   ]
  },
  {
   "cell_type": "code",
   "execution_count": 42,
   "metadata": {},
   "outputs": [
    {
     "name": "stdout",
     "output_type": "stream",
     "text": [
      "157/157 [==============================] - 0s 307us/step\n",
      "157/157 [==============================] - 0s 243us/step\n",
      "Encoded Signal 1 Average Power: 4.5099306\n",
      "Encoded Signal 2 Average Power: 4.11539\n"
     ]
    },
    {
     "data": {
      "image/png": "[encoded data removed]",
      "text/plain": [
       "<Figure size 1000x500 with 2 Axes>"
      ]
     },
     "metadata": {},
     "output_type": "display_data"
    }
   ],
   "source": [
    "SNRdB = 23\n",
    "EbNo = 10.0**(-SNRdB / 10.0)\n",
    "# Predict encoded signal\n",
    "encoded_signal1, encoded_signal2  = encoder.predict([test_data1, test_data2])\n",
    "\n",
    "# Pass through Rayleigh channel\n",
    "final_signal1 = reyleigh_single_tap(encoded_signal1, EbNo, N, n_channel)\n",
    "final_signal2 = reyleigh_single_tap(encoded_signal2, EbNo, N, n_channel)\n",
    "\n",
    "# Predict the output\n",
    "pred_final_signal1, pred_final_signal2 = decoder.predict([final_signal1, final_signal2])\n",
    "\n",
    "# 평균 전력 확인\n",
    "power1 = np.mean(np.sum(np.abs(encoded_signal1)**2, axis=1))\n",
    "power2 = np.mean(np.sum(np.abs(encoded_signal2)**2, axis=1))\n",
    "print('Encoded Signal 1 Average Power:', power1)\n",
    "print('Encoded Signal 2 Average Power:', power2)\n",
    "\n",
    "import matplotlib.pyplot as plt\n",
    "\n",
    "plt.figure(figsize=(10, 5))\n",
    "plt.subplot(1, 2, 1)\n",
    "plt.scatter(final_signal1[:,0], final_signal1[:,1], color = 'blue')\n",
    "plt.scatter(encoded_signal1[:,0],encoded_signal1[:,1], color = 'red')\n",
    "plt.grid()\n",
    "plt.axis((-2.5, 2.5, -2.5, 2.5))\n",
    "plt.subplot(1, 2, 2)\n",
    "plt.scatter(final_signal2[:,0], final_signal2[:,1], color = 'blue',)\n",
    "plt.scatter(encoded_signal2[:,0],encoded_signal2[:,1], color = 'red')\n",
    "plt.axis((-2.5, 2.5, -2.5, 2.5))\n",
    "plt.grid()"
   ]
  },
  {
   "cell_type": "code",
   "execution_count": 19,
   "metadata": {},
   "outputs": [],
   "source": [
    "def frange(x, y, jump):\n",
    "  while x < y:\n",
    "    yield x\n",
    "    x += jump"
   ]
  },
  {
   "cell_type": "markdown",
   "metadata": {},
   "source": [
    "## Convolution Simulation"
   ]
  },
  {
   "cell_type": "code",
   "execution_count": 20,
   "metadata": {},
   "outputs": [
    {
     "name": "stdout",
     "output_type": "stream",
     "text": [
      "313/313 [==============================] - 0s 266us/step\n",
      "313/313 [==============================] - 0s 233us/step\n",
      "SNR: 0 BER: 0.1348 0.0008\n",
      "313/313 [==============================] - 0s 243us/step\n",
      "313/313 [==============================] - 0s 230us/step\n",
      "SNR: 2 BER: 0.05586666666666667 0.0002\n",
      "313/313 [==============================] - 0s 242us/step\n",
      "313/313 [==============================] - 0s 231us/step\n",
      "SNR: 4 BER: 0.016666666666666666 0.0002\n",
      "313/313 [==============================] - 0s 242us/step\n",
      "313/313 [==============================] - 0s 231us/step\n",
      "SNR: 6 BER: 0.0044666666666666665 0.0\n",
      "313/313 [==============================] - 0s 242us/step\n",
      "313/313 [==============================] - 0s 230us/step\n",
      "SNR: 8 BER: 0.0009333333333333333 0.0\n",
      "313/313 [==============================] - 0s 241us/step\n",
      "313/313 [==============================] - 0s 231us/step\n",
      "SNR: 10 BER: 0.0004 0.0\n",
      "313/313 [==============================] - 0s 242us/step\n",
      "313/313 [==============================] - 0s 230us/step\n",
      "SNR: 12 BER: 0.00013333333333333334 0.0\n",
      "313/313 [==============================] - 0s 243us/step\n",
      "313/313 [==============================] - 0s 232us/step\n",
      "SNR: 14 BER: 0.00013333333333333334 0.0\n",
      "313/313 [==============================] - 0s 242us/step\n",
      "313/313 [==============================] - 0s 231us/step\n",
      "SNR: 16 BER: 0.0 0.0\n",
      "313/313 [==============================] - 0s 245us/step\n",
      "313/313 [==============================] - 0s 233us/step\n",
      "SNR: 18 BER: 0.0 0.0\n",
      "313/313 [==============================] - 0s 246us/step\n",
      "313/313 [==============================] - 0s 232us/step\n",
      "SNR: 20 BER: 6.666666666666667e-05 0.0\n"
     ]
    }
   ],
   "source": [
    "import numpy as np\n",
    "\n",
    "# BER Calculation\n",
    "EbNodB_range = list(frange(0, 21, 2))\n",
    "ber1_conv = [None] * len(EbNodB_range)\n",
    "ber2_conv = [None] * len(EbNodB_range)\n",
    "num_bits1 = int(np.log2(M1))\n",
    "num_bits2 = int(np.log2(M2))\n",
    "conv_R = trellis.k / trellis.n\n",
    "\n",
    "for n in range(len(EbNodB_range)):\n",
    "    EbNo = 10.0**(-EbNodB_range[n] / 10.0)\n",
    "    nn = N\n",
    "\n",
    "    # Predict encoded signal\n",
    "    encoded_signal1, encoded_signal2 = encoder.predict([test_conv_data1, test_conv_data2])\n",
    "    \n",
    "    # Pass through Rayleigh channel\n",
    "    final_signal1 = reyleigh_single_tap(encoded_signal1, EbNo, int(nn / conv_R), n_channel)\n",
    "    final_signal2 = reyleigh_single_tap(encoded_signal2, EbNo, int(nn / conv_R), n_channel)\n",
    "\n",
    "    # Predict the output\n",
    "    pred_final_signal1, pred_final_signal2 = decoder.predict([final_signal1, final_signal2])\n",
    "\n",
    "    # Convert predictions to symbol indices (0 to M-1)\n",
    "    pred_output1 = np.argmax(pred_final_signal1, axis=1)\n",
    "    pred_output2 = np.argmax(pred_final_signal2, axis=1)\n",
    "\n",
    "    pred_output_bits1 = decimal_to_bitarray(pred_output1, log2M1)\n",
    "    pred_output_bits2 = decimal_to_bitarray(pred_output2, log2M2)\n",
    "    \n",
    "    pred_output_bits1 = viterbi_decode(pred_output_bits1, trellis, tb_depth=tbl)\n",
    "    pred_output_bits2 = viterbi_decode(pred_output_bits2, trellis, tb_depth=tbl)\n",
    "\n",
    "    # Calculate bit errors\n",
    "    bit_errors1 = np.sum(pred_output_bits1 != test_userBit1)\n",
    "    bit_errors2 = np.sum(pred_output_bits2 != test_userBit2)\n",
    "\n",
    "    # Calculate BER\n",
    "    ber1_conv[n] = bit_errors1 / (nn * num_bits1)\n",
    "    ber2_conv[n] = bit_errors2 / (nn * num_bits2)\n",
    "\n",
    "    print('SNR:', EbNodB_range[n], 'BER:', ber1_conv[n], ber2_conv[n])"
   ]
  },
  {
   "cell_type": "markdown",
   "metadata": {},
   "source": [
    "## Simulation"
   ]
  },
  {
   "cell_type": "code",
   "execution_count": 21,
   "metadata": {},
   "outputs": [
    {
     "name": "stdout",
     "output_type": "stream",
     "text": [
      "157/157 [==============================] - 0s 253us/step\n",
      "157/157 [==============================] - 0s 236us/step\n",
      "SNR: 0 BER: 0.10013333333333334 0.0399\n",
      "157/157 [==============================] - 0s 247us/step\n",
      "157/157 [==============================] - 0s 243us/step\n",
      "SNR: 2 BER: 0.07273333333333333 0.029\n",
      "157/157 [==============================] - 0s 246us/step\n",
      "157/157 [==============================] - 0s 237us/step\n",
      "SNR: 4 BER: 0.05566666666666667 0.0207\n",
      "157/157 [==============================] - 0s 246us/step\n",
      "157/157 [==============================] - 0s 233us/step\n",
      "SNR: 6 BER: 0.0336 0.012\n",
      "157/157 [==============================] - 0s 241us/step\n",
      "157/157 [==============================] - 0s 242us/step\n",
      "SNR: 8 BER: 0.023466666666666667 0.0076\n",
      "157/157 [==============================] - 0s 244us/step\n",
      "157/157 [==============================] - 0s 234us/step\n",
      "SNR: 10 BER: 0.0148 0.0044\n",
      "157/157 [==============================] - 0s 243us/step\n",
      "157/157 [==============================] - 0s 234us/step\n",
      "SNR: 12 BER: 0.007933333333333334 0.0022\n",
      "157/157 [==============================] - 0s 241us/step\n",
      "157/157 [==============================] - 0s 242us/step\n",
      "SNR: 14 BER: 0.008933333333333333 0.0011\n",
      "157/157 [==============================] - 0s 246us/step\n",
      "157/157 [==============================] - 0s 233us/step\n",
      "SNR: 16 BER: 0.0044 0.0016\n",
      "157/157 [==============================] - 0s 243us/step\n",
      "157/157 [==============================] - 0s 234us/step\n",
      "SNR: 18 BER: 0.0019333333333333333 0.0006\n",
      "157/157 [==============================] - 0s 244us/step\n",
      "157/157 [==============================] - 0s 244us/step\n",
      "SNR: 20 BER: 0.001 0.0011\n"
     ]
    }
   ],
   "source": [
    "import numpy as np\n",
    "\n",
    "def symbols_to_bits(symbols, M):\n",
    "    # Determine the number of bits required to represent the symbols (log2(M))\n",
    "    num_bits = int(np.log2(M))\n",
    "    \n",
    "    # Convert each symbol to its binary representation and pad with leading zeros\n",
    "    bit_array = np.array([np.binary_repr(symbol, width=num_bits) for symbol in symbols])\n",
    "    \n",
    "    # Flatten the array into a single array of bits (0 or 1)\n",
    "    bit_array_flat = np.array([int(bit) for bits in bit_array for bit in bits])\n",
    "    \n",
    "    return bit_array_flat\n",
    "\n",
    "# BER Calculation\n",
    "EbNodB_range = list(frange(0, 21, 2))\n",
    "ber1 = [None] * len(EbNodB_range)\n",
    "ber2 = [None] * len(EbNodB_range)\n",
    "num_bits1 = int(np.log2(M1))\n",
    "num_bits2 = int(np.log2(M2))\n",
    "\n",
    "for n in range(len(EbNodB_range)):\n",
    "    EbNo = 10.0**(-EbNodB_range[n] / 10.0)\n",
    "    nn = N\n",
    "\n",
    "    # Predict encoded signal\n",
    "    encoded_signal1, encoded_signal2 = encoder.predict([test_data1, test_data2])\n",
    "    \n",
    "    # Pass through Rayleigh channel\n",
    "    final_signal1 = reyleigh_single_tap(encoded_signal1, EbNo, nn, n_channel)\n",
    "    final_signal2 = reyleigh_single_tap(encoded_signal2, EbNo, nn, n_channel)\n",
    "\n",
    "    # Predict the output\n",
    "    pred_final_signal1, pred_final_signal2 = decoder.predict([final_signal1, final_signal2])\n",
    "\n",
    "    # Convert predictions to symbol indices (0 to M-1)\n",
    "    pred_output1 = np.argmax(pred_final_signal1, axis=1)\n",
    "    pred_output2 = np.argmax(pred_final_signal2, axis=1)\n",
    "\n",
    "    pred_output_bits1 = symbols_to_bits(pred_output1, M1)\n",
    "    pred_output_bits2 = symbols_to_bits(pred_output2, M2)\n",
    "\n",
    "    test_label_bits1 = symbols_to_bits(test_label1, M1)\n",
    "    test_label_bits2 = symbols_to_bits(test_label2, M2)\n",
    "\n",
    "    # Calculate bit errors\n",
    "    bit_errors1 = np.sum(pred_output_bits1 != test_label_bits1)\n",
    "    bit_errors2 = np.sum(pred_output_bits2 != test_label_bits2)\n",
    "\n",
    "    # Calculate BER\n",
    "    ber1[n] = bit_errors1 / (nn * num_bits1)\n",
    "    ber2[n] = bit_errors2 / (nn * num_bits2)\n",
    "\n",
    "    print('SNR:', EbNodB_range[n], 'BER:', ber1[n], ber2[n])"
   ]
  },
  {
   "cell_type": "code",
   "execution_count": 22,
   "metadata": {},
   "outputs": [
    {
     "name": "stdout",
     "output_type": "stream",
     "text": [
      "157/157 [==============================] - 0s 251us/step\n",
      "157/157 [==============================] - 0s 234us/step\n",
      "SNR: 0 BER: 0.03646666666666667 0.0012\n",
      "157/157 [==============================] - 0s 245us/step\n",
      "157/157 [==============================] - 0s 233us/step\n",
      "SNR: 2 BER: 0.016533333333333334 0.0001\n",
      "157/157 [==============================] - 0s 244us/step\n",
      "157/157 [==============================] - 0s 245us/step\n",
      "SNR: 4 BER: 0.008333333333333333 0.0\n",
      "157/157 [==============================] - 0s 244us/step\n",
      "157/157 [==============================] - 0s 233us/step\n",
      "SNR: 6 BER: 0.0028 0.0\n",
      "157/157 [==============================] - 0s 243us/step\n",
      "157/157 [==============================] - 0s 233us/step\n",
      "SNR: 8 BER: 0.0004 0.0\n",
      "157/157 [==============================] - 0s 243us/step\n",
      "157/157 [==============================] - 0s 243us/step\n",
      "SNR: 10 BER: 6.666666666666667e-05 0.0\n",
      "157/157 [==============================] - 0s 243us/step\n",
      "157/157 [==============================] - 0s 234us/step\n",
      "SNR: 12 BER: 0.0 0.0\n",
      "157/157 [==============================] - 0s 245us/step\n",
      "157/157 [==============================] - 0s 233us/step\n",
      "SNR: 14 BER: 0.0 0.0\n",
      "157/157 [==============================] - 0s 246us/step\n",
      "157/157 [==============================] - 0s 244us/step\n",
      "SNR: 16 BER: 0.0 0.0\n",
      "157/157 [==============================] - 0s 242us/step\n",
      "157/157 [==============================] - 0s 232us/step\n",
      "SNR: 18 BER: 0.0 0.0\n",
      "157/157 [==============================] - 0s 242us/step\n",
      "157/157 [==============================] - 0s 232us/step\n",
      "SNR: 20 BER: 0.0 0.0\n"
     ]
    }
   ],
   "source": [
    "import numpy as np\n",
    "\n",
    "def symbols_to_bits(symbols, M):\n",
    "    # Determine the number of bits required to represent the symbols (log2(M))\n",
    "    num_bits = int(np.log2(M))\n",
    "    \n",
    "    # Convert each symbol to its binary representation and pad with leading zeros\n",
    "    bit_array = np.array([np.binary_repr(symbol, width=num_bits) for symbol in symbols])\n",
    "    \n",
    "    # Flatten the array into a single array of bits (0 or 1)\n",
    "    bit_array_flat = np.array([int(bit) for bits in bit_array for bit in bits])\n",
    "    \n",
    "    return bit_array_flat\n",
    "\n",
    "# BER Calculation\n",
    "EbNodB_range = list(frange(0, 21, 2))\n",
    "ber1_awgn = [None] * len(EbNodB_range)\n",
    "ber2_awgn = [None] * len(EbNodB_range)\n",
    "num_bits1 = int(np.log2(M1))\n",
    "num_bits2 = int(np.log2(M2))\n",
    "\n",
    "for n in range(len(EbNodB_range)):\n",
    "    EbNo = 10.0**(-EbNodB_range[n] / 10.0)\n",
    "    nn = N\n",
    "\n",
    "    # Predict encoded signal\n",
    "    encoded_signal1, encoded_signal2 = encoder.predict([test_data1, test_data2])\n",
    "    \n",
    "    # Pass through Rayleigh channel\n",
    "    final_signal1 = awgn_single_tap(encoded_signal1, EbNo, nn, n_channel)\n",
    "    final_signal2 = awgn_single_tap(encoded_signal2, EbNo, nn, n_channel)\n",
    "\n",
    "    # Predict the output\n",
    "    pred_final_signal1, pred_final_signal2 = decoder.predict([final_signal1, final_signal2])\n",
    "\n",
    "    # Convert predictions to symbol indices (0 to M-1)\n",
    "    pred_output1 = np.argmax(pred_final_signal1, axis=1)\n",
    "    pred_output2 = np.argmax(pred_final_signal2, axis=1)\n",
    "\n",
    "    pred_output_bits1 = symbols_to_bits(pred_output1, M1)\n",
    "    pred_output_bits2 = symbols_to_bits(pred_output2, M2)\n",
    "\n",
    "    test_label_bits1 = symbols_to_bits(test_label1, M1)\n",
    "    test_label_bits2 = symbols_to_bits(test_label2, M2)\n",
    "\n",
    "    # Calculate bit errors\n",
    "    bit_errors1 = np.sum(pred_output_bits1 != test_label_bits1)\n",
    "    bit_errors2 = np.sum(pred_output_bits2 != test_label_bits2)\n",
    "\n",
    "    # Calculate BER\n",
    "    ber1_awgn[n] = bit_errors1 / (nn * num_bits1)\n",
    "    ber2_awgn[n] = bit_errors2 / (nn * num_bits2)\n",
    "\n",
    "    print('SNR:', EbNodB_range[n], 'BER:', ber1_awgn[n], ber2_awgn[n])"
   ]
  },
  {
   "cell_type": "markdown",
   "metadata": {},
   "source": [
    "## Constellation"
   ]
  },
  {
   "cell_type": "code",
   "execution_count": 23,
   "metadata": {},
   "outputs": [
    {
     "data": {
      "text/plain": [
       "<matplotlib.legend.Legend at 0x30459fb20>"
      ]
     },
     "execution_count": 23,
     "metadata": {},
     "output_type": "execute_result"
    },
    {
     "data": {
      "image/png": "[encoded data removed]",
      "text/plain": [
       "<Figure size 1000x1000 with 1 Axes>"
      ]
     },
     "metadata": {},
     "output_type": "display_data"
    }
   ],
   "source": [
    "# ploting ber curve\n",
    "import matplotlib.pyplot as plt\n",
    "from scipy import interpolate\n",
    "plt.figure(figsize=(10, 10))\n",
    "plt.plot(EbNodB_range, ber1_awgn, 'bo-',label=f'AE1 with AWGN {M1}-QAM')\n",
    "plt.plot(EbNodB_range, ber2_awgn, 'ro-',label=f'AE2 with AWGN {M2}-QAM')\n",
    "plt.plot(EbNodB_range, ber1, 'b',label=f'AE1 with Fading {M1}-QAM')\n",
    "plt.plot(EbNodB_range, ber2, 'r',label=f'AE2 with Fading {M2}-QAM')\n",
    "plt.plot(EbNodB_range, ber1_conv, 'b--',label=f'CC AE1 with Fading {M1}-QAM')\n",
    "plt.plot(EbNodB_range, ber2_conv, 'r--',label=f'CC AE2 with Fading {M2}-QAM')\n",
    "plt.yscale('log')\n",
    "plt.xlabel('SNR Range')\n",
    "plt.ylabel('Bit Error Rate')\n",
    "plt.ylim([10**-5, 1])\n",
    "plt.grid()\n",
    "plt.legend(loc='upper right',ncol = 1)"
   ]
  }
 ],
 "metadata": {
  "kernelspec": {
   "display_name": "zero_jelly",
   "language": "python",
   "name": "python3"
  },
  "language_info": {
   "codemirror_mode": {
    "name": "ipython",
    "version": 3
   },
   "file_extension": ".py",
   "mimetype": "text/x-python",
   "name": "python",
   "nbconvert_exporter": "python",
   "pygments_lexer": "ipython3",
   "version": "3.10.13"
  }
 },
 "nbformat": 4,
 "nbformat_minor": 2
}
